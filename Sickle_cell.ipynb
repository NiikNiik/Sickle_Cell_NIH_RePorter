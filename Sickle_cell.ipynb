{
 "cells": [
  {
   "cell_type": "markdown",
   "id": "8b61b732-8e65-4321-acd3-39212c51dd53",
   "metadata": {},
   "source": [
    "# Research Question"
   ]
  },
  {
   "cell_type": "markdown",
   "id": "cff00a00-72c9-48bd-acd2-ea5f2ec55bea",
   "metadata": {},
   "source": [
    "How has NIH’s Cure Sickle Cell Initiative impacted research funding distribution and research focus?"
   ]
  },
  {
   "cell_type": "markdown",
   "id": "75f597ae-f131-4b2a-8dfd-829b8b03521c",
   "metadata": {},
   "source": [
    "## Dependencies"
   ]
  },
  {
   "cell_type": "code",
   "execution_count": 3,
   "id": "c8510e87-17fa-4aa6-8366-65eaa5486f4b",
   "metadata": {},
   "outputs": [
    {
     "name": "stdout",
     "output_type": "stream",
     "text": [
      "Requirement already satisfied: nltk in c:\\users\\najani\\appdata\\local\\programs\\python\\python313\\lib\\site-packages (3.9.1)Note: you may need to restart the kernel to use updated packages.\n",
      "\n",
      "Requirement already satisfied: click in c:\\users\\najani\\appdata\\local\\programs\\python\\python313\\lib\\site-packages (from nltk) (8.1.8)\n",
      "Requirement already satisfied: joblib in c:\\users\\najani\\appdata\\local\\programs\\python\\python313\\lib\\site-packages (from nltk) (1.4.2)\n",
      "Requirement already satisfied: regex>=2021.8.3 in c:\\users\\najani\\appdata\\local\\programs\\python\\python313\\lib\\site-packages (from nltk) (2024.11.6)\n",
      "Requirement already satisfied: tqdm in c:\\users\\najani\\appdata\\local\\programs\\python\\python313\\lib\\site-packages (from nltk) (4.67.1)\n",
      "Requirement already satisfied: colorama in c:\\users\\najani\\appdata\\local\\programs\\python\\python313\\lib\\site-packages (from click->nltk) (0.4.6)\n"
     ]
    },
    {
     "data": {
      "application/javascript": [
       "IPython.notebook.set_autosave_interval(60000)"
      ]
     },
     "metadata": {},
     "output_type": "display_data"
    },
    {
     "name": "stdout",
     "output_type": "stream",
     "text": [
      "Autosaving every 60 seconds\n"
     ]
    }
   ],
   "source": [
    "# Install package for natural language processing\n",
    "%pip install nltk\n",
    "\n",
    "# data manipulation\n",
    "import pandas as pd\n",
    "import numpy as np\n",
    "import os\n",
    "\n",
    "# text analysis tools\n",
    "import nltk\n",
    "from sklearn.feature_extraction.text import CountVectorizer, TfidfTransformer\n",
    "from sklearn.decomposition import LatentDirichletAllocation\n",
    "from sklearn import preprocessing\n",
    "from nltk import SnowballStemmer\n",
    "import string\n",
    "\n",
    "# visualization tools\n",
    "import matplotlib as mplib\n",
    "import matplotlib.pyplot as plt \n",
    "import seaborn as sns  \n",
    "\n",
    "%autosave 60"
   ]
  },
  {
   "cell_type": "markdown",
   "id": "4ff3e416-91ab-4a97-a7a7-f88c7fdf5012",
   "metadata": {},
   "source": [
    "# Get Path"
   ]
  },
  {
   "cell_type": "code",
   "execution_count": 4,
   "id": "f5c645ec-d841-46a4-b88b-e2da59aaca5e",
   "metadata": {},
   "outputs": [],
   "source": [
    "# Convert scientific notation to a full float\n",
    "pd.set_option('display.float_format', '{:.2f}'.format)"
   ]
  },
  {
   "cell_type": "code",
   "execution_count": 5,
   "id": "19fd1433-d739-452f-a5ff-167a90c2b357",
   "metadata": {},
   "outputs": [
    {
     "name": "stdout",
     "output_type": "stream",
     "text": [
      "C:\\Users\\NAjani\n"
     ]
    }
   ],
   "source": [
    "# Set the path to the \"Data\" folder by replacing \"Notebooks\" in the current directory path\n",
    "path = str(os.getcwd()).replace(\"Notebooks\", \"Data\")\n",
    "\n",
    "# If the data has been moved, manually set the path below (not recommended for reproducibility)\n",
    "# path = '...'  # Uncomment and update if needed\n",
    "\n",
    "# Print the path to verify correctness (varies by computer)\n",
    "print(path)"
   ]
  },
  {
   "cell_type": "markdown",
   "id": "c635e229-57b4-43f1-a005-715dbe114970",
   "metadata": {},
   "source": [
    "## This sections focuses on identifying sickle cell research projects funded by the National Heart, Lung, and Blood Institute (NHLBI)."
   ]
  },
  {
   "cell_type": "code",
   "execution_count": null,
   "id": "d5152482-2885-4778-8405-d27c2dfb2faf",
   "metadata": {},
   "outputs": [],
   "source": [
    "def sickle_cell_cat_NHLBI(df):\n",
    "    \"\"\"Filters NHLBI projects related to Sickle Cell Disease funded by NHLBI.\"\"\"\n",
    "    \n",
    "    # Drop rows with missing spending categories\n",
    "    df = df.dropna(subset=['NIH_SPENDING_CATS'])\n",
    "\n",
    "    # Filter for Sickle Cell Disease projects\n",
    "    filtered_df = df[df[\"NIH_SPENDING_CATS\"].str.contains(\"Sickle Cell Disease\", case=False, na=False)]\n",
    "\n",
    "    # Further filter for NHLBI-funded projects\n",
    "    return filtered_df[filtered_df[\"IC_NAME\"].str.contains(\"NATIONAL HEART, LUNG, AND BLOOD INSTITUTE\", case=False, na=False)]"
   ]
  },
  {
   "cell_type": "code",
   "execution_count": null,
   "id": "014df9cd-317d-4243-9017-c0a50b6ae153",
   "metadata": {},
   "outputs": [],
   "source": []
  },
  {
   "cell_type": "code",
   "execution_count": null,
   "id": "177633af-4872-42e6-a259-1502c0e37abf",
   "metadata": {},
   "outputs": [],
   "source": []
  },
  {
   "cell_type": "code",
   "execution_count": null,
   "id": "34c25206-58e6-41b9-8821-bece5eac205d",
   "metadata": {},
   "outputs": [],
   "source": []
  },
  {
   "cell_type": "code",
   "execution_count": null,
   "id": "23d2e7e2-f92c-4cb3-a290-99bf438e3752",
   "metadata": {},
   "outputs": [],
   "source": []
  },
  {
   "cell_type": "code",
   "execution_count": null,
   "id": "4fe8b62c-cdf6-458d-92ee-f838ab19ba22",
   "metadata": {},
   "outputs": [],
   "source": [
    "\"\"\"Filters NHLBI projects related to Gene Therapy.\"\"\"\n",
    "def Gene_Therapy_NHLBI(df):\n",
    "    # Drop rows with missing spending categories\n",
    "    df = df.dropna(subset=['NIH_SPENDING_CATS'])\n",
    "    \n",
    "    # Filter for Sickle Cell Disease projects\n",
    "    filtered_df = df[df[\"NIH_SPENDING_CATS\"].str.contains(\"Gene Therapy\", case=False, na=False)]\n",
    "    \n",
    "    # Further filter for NHLBI-funded projects\n",
    "    return filtered_df[filtered_df[\"IC_NAME\"].str.contains(\"NATIONAL HEART, LUNG, AND BLOOD INSTITUTE\", case=False, na=False)]"
   ]
  }
 ],
 "metadata": {
  "kernelspec": {
   "display_name": "Python 3 (ipykernel)",
   "language": "python",
   "name": "python3"
  },
  "language_info": {
   "codemirror_mode": {
    "name": "ipython",
    "version": 3
   },
   "file_extension": ".py",
   "mimetype": "text/x-python",
   "name": "python",
   "nbconvert_exporter": "python",
   "pygments_lexer": "ipython3",
   "version": "3.13.2"
  }
 },
 "nbformat": 4,
 "nbformat_minor": 5
}
