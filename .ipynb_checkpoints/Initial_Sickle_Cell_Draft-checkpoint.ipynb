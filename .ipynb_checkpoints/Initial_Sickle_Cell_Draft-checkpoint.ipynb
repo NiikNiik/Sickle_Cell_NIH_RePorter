{
 "cells": [
  {
   "cell_type": "markdown",
   "id": "94b7b543-27a0-4003-a600-f5845deb66ba",
   "metadata": {},
   "source": [
    "# Introduction"
   ]
  },
  {
   "cell_type": "markdown",
   "id": "0722f67c-2a96-4a6d-9d97-0bdbc8941728",
   "metadata": {},
   "source": [
    "Sickle cell disease (SCD) is a serious genetic disorder that has historically received limited research funding compared to other conditions. This project analyzes NIH’s spending on sickle cell research to identify funding trends, key recipients, and alignment with broader healthcare priorities. Using statistical analysis and big data methods, we assess how NIH’s investment compares to similar research areas and whether funding distribution reflects national health objectives. The goal is to provide data-driven insights into the financial landscape of sickle cell research and its implications for future funding strategies."
   ]
  },
  {
   "cell_type": "markdown",
   "id": "9d0f32f1-4c05-4fb1-b7f1-c31bdf9c1937",
   "metadata": {},
   "source": [
    "# Installing Dependencies"
   ]
  },
  {
   "cell_type": "code",
   "execution_count": 2,
   "id": "6f972c88-0613-4832-82e3-696ffd4b8430",
   "metadata": {},
   "outputs": [
    {
     "name": "stdout",
     "output_type": "stream",
     "text": [
      "Requirement already satisfied: nltk in c:\\users\\najani\\appdata\\local\\programs\\python\\python313\\lib\\site-packages (3.9.1)\n",
      "Requirement already satisfied: click in c:\\users\\najani\\appdata\\local\\programs\\python\\python313\\lib\\site-packages (from nltk) (8.1.8)\n",
      "Requirement already satisfied: joblib in c:\\users\\najani\\appdata\\local\\programs\\python\\python313\\lib\\site-packages (from nltk) (1.4.2)\n",
      "Requirement already satisfied: regex>=2021.8.3 in c:\\users\\najani\\appdata\\local\\programs\\python\\python313\\lib\\site-packages (from nltk) (2024.11.6)\n",
      "Requirement already satisfied: tqdm in c:\\users\\najani\\appdata\\local\\programs\\python\\python313\\lib\\site-packages (from nltk) (4.67.1)\n",
      "Requirement already satisfied: colorama in c:\\users\\najani\\appdata\\local\\programs\\python\\python313\\lib\\site-packages (from click->nltk) (0.4.6)\n",
      "Note: you may need to restart the kernel to use updated packages.\n"
     ]
    },
    {
     "name": "stderr",
     "output_type": "stream",
     "text": [
      "\n",
      "[notice] A new release of pip is available: 25.0 -> 25.0.1\n",
      "[notice] To update, run: python.exe -m pip install --upgrade pip\n"
     ]
    }
   ],
   "source": [
    "# Install package for natural language processing\n",
    "%pip install nltk"
   ]
  },
  {
   "cell_type": "code",
   "execution_count": 3,
   "id": "c8dabf8c-3e58-44a9-a8d7-8fed6af60f0a",
   "metadata": {},
   "outputs": [
    {
     "data": {
      "application/javascript": [
       "IPython.notebook.set_autosave_interval(60000)"
      ]
     },
     "metadata": {},
     "output_type": "display_data"
    },
    {
     "name": "stdout",
     "output_type": "stream",
     "text": [
      "Autosaving every 60 seconds\n"
     ]
    }
   ],
   "source": [
    "# data manipulation\n",
    "import pandas as pd\n",
    "import numpy as np\n",
    "import os\n",
    "\n",
    "# text analysis tools\n",
    "import nltk\n",
    "from sklearn.feature_extraction.text import CountVectorizer, TfidfTransformer\n",
    "from sklearn.decomposition import LatentDirichletAllocation\n",
    "from sklearn import preprocessing\n",
    "from nltk import SnowballStemmer\n",
    "import string\n",
    "\n",
    "# visualization tools\n",
    "import matplotlib as mplib\n",
    "import matplotlib.pyplot as plt \n",
    "import seaborn as sns  \n",
    "\n",
    "%autosave 60"
   ]
  },
  {
   "cell_type": "markdown",
   "id": "c4859057-a487-4fe3-804e-30a92aa98435",
   "metadata": {},
   "source": [
    "# Get path"
   ]
  },
  {
   "cell_type": "code",
   "execution_count": 4,
   "id": "1d3d96e7-32de-4242-ab5a-d33a35ca0444",
   "metadata": {},
   "outputs": [],
   "source": [
    "# Convert scientific notation to a full float\n",
    "pd.set_option('display.float_format', '{:.2f}'.format)"
   ]
  },
  {
   "cell_type": "code",
   "execution_count": 5,
   "id": "7f637dc9-30c0-4b14-859f-9976f1e4834d",
   "metadata": {},
   "outputs": [
    {
     "name": "stdout",
     "output_type": "stream",
     "text": [
      "C:\\Users\\NAjani\\Jupyter\\Wagner\n"
     ]
    }
   ],
   "source": [
    "# Set the path to the \"Data\" folder by replacing \"Notebooks\" in the current directory path\n",
    "path = str(os.getcwd()).replace(\"Notebooks\", \"Data\")\n",
    "\n",
    "# If the data has been moved, manually set the path below (not recommended for reproducibility)\n",
    "# path = '...'  # Uncomment and update if needed\n",
    "\n",
    "# Print the path to verify correctness (varies by computer)\n",
    "print(path)"
   ]
  },
  {
   "cell_type": "markdown",
   "id": "c7acf93d-9910-4f9f-979c-26e66483a63a",
   "metadata": {},
   "source": [
    "# NHLBI categories"
   ]
  },
  {
   "cell_type": "code",
   "execution_count": 22,
   "id": "218b3600-c967-4c8e-a892-010385940dd3",
   "metadata": {},
   "outputs": [],
   "source": [
    "def sickle_cell_cat_NHLBI(df):\n",
    "    \"\"\"Filters NIH projects related to Sickle Cell Disease funded by NHLBI.\"\"\"\n",
    "    \n",
    "    # Drop rows with missing spending categories\n",
    "    df = df.dropna(subset=['NIH_SPENDING_CATS'])\n",
    "\n",
    "    # Filter for Sickle Cell Disease projects\n",
    "    filtered_df = df[df[\"NIH_SPENDING_CATS\"].str.contains(\"Sickle Cell Disease\", case=False, na=False)]\n",
    "\n",
    "    # Further filter for NHLBI-funded projects\n",
    "    return filtered_df[filtered_df[\"IC_NAME\"].str.contains(\"NATIONAL HEART, LUNG, AND BLOOD INSTITUTE\", case=False, na=False)]"
   ]
  },
  {
   "cell_type": "markdown",
   "id": "92332346-8d7e-44e1-8945-e0d2ded232dd",
   "metadata": {},
   "source": [
    "# NHLBI Terms"
   ]
  },
  {
   "cell_type": "code",
   "execution_count": 23,
   "id": "461b6bbd-8c4b-42df-9aca-5c4b08b9a406",
   "metadata": {},
   "outputs": [],
   "source": [
    "def sickle_cell_term_NHLBI(df):\n",
    "    \"\"\"Filters NIH projects mentioning 'Sickle Cell Anemia' in project terms and funded by NHLBI.\"\"\"\n",
    "    \n",
    "    # Drop rows with missing project terms\n",
    "    df = df.dropna(subset=['PROJECT_TERMS'])\n",
    "\n",
    "    # Filter for Sickle Cell Anemia projects\n",
    "    filtered_df = df[df[\"PROJECT_TERMS\"].str.contains(\"Sickle Cell Anemia\", case=False, na=False)]\n",
    "\n",
    "    # Further filter for NHLBI-funded projects\n",
    "    return filtered_df[filtered_df[\"IC_NAME\"].str.contains(\"NATIONAL HEART, LUNG, AND BLOOD INSTITUTE\", case=False, na=False)]"
   ]
  },
  {
   "cell_type": "markdown",
   "id": "963e38aa-130a-45cc-8653-34f0f2b0808d",
   "metadata": {},
   "source": [
    "# NIH Categroies"
   ]
  },
  {
   "cell_type": "code",
   "execution_count": 24,
   "id": "64af5f6f-fd0e-404e-acc9-f534c3ef168a",
   "metadata": {},
   "outputs": [],
   "source": [
    "def sickle_cell_cat_NIH(df):\n",
    "    \"\"\"Filters NIH projects related to Sickle Cell Disease based on NIH spending categories.\"\"\"\n",
    "    \n",
    "    # Drop rows with missing spending categories\n",
    "    df = df.dropna(subset=['NIH_SPENDING_CATS'])\n",
    "\n",
    "    # Filter for Sickle Cell Disease projects\n",
    "    return df[df[\"NIH_SPENDING_CATS\"].str.contains(\"Sickle Cell Disease\", case=False, na=False)]\n"
   ]
  },
  {
   "cell_type": "markdown",
   "id": "717edb88-1dde-48a3-8f1b-6101df9e34f2",
   "metadata": {},
   "source": [
    "# NIH Terms"
   ]
  },
  {
   "cell_type": "code",
   "execution_count": 25,
   "id": "7820bee7-31d8-4245-804d-0948e42ff490",
   "metadata": {},
   "outputs": [],
   "source": [
    "def sickle_cell_term_NIH(df):\n",
    "    \"\"\"Filters NIH projects mentioning 'Sickle Cell Disease' in project terms.\"\"\"\n",
    "    \n",
    "    # Drop rows with missing project terms\n",
    "    df = df.dropna(subset=['PROJECT_TERMS'])\n",
    "\n",
    "    # Filter for Sickle Cell Disease projects\n",
    "    return df[df[\"PROJECT_TERMS\"].str.contains(\"Sickle Cell Disease\", case=False, na=False)]"
   ]
  },
  {
   "cell_type": "markdown",
   "id": "86c1f7d8-ab04-474a-841a-fa03f5127950",
   "metadata": {},
   "source": [
    "# Find the number of unique categories using Categories\n",
    "\n",
    "There are 324 according to https://report.nih.gov/funding/categorical-spending#/"
   ]
  },
  {
   "cell_type": "code",
   "execution_count": 28,
   "id": "c33d15d3-3f7d-4e7e-9f65-18bf4ac47d3b",
   "metadata": {},
   "outputs": [
    {
     "data": {
      "text/plain": [
       "332"
      ]
     },
     "execution_count": 28,
     "metadata": {},
     "output_type": "execute_result"
    }
   ],
   "source": [
    "years = [str(year) for year in range(2012, 2022)]  # Generate years dynamically\n",
    "\n",
    "# Load and process project data for 2012 as the base DataFrame\n",
    "proj = pd.read_csv(f\"{path}/Data/Projects/RePORTER_PRJ_C_FY2012.csv\", encoding=\"latin-1\")\n",
    "ab = pd.read_csv(f\"{path}/Data/Abstracts/RePORTER_PRJABS_C_FY2012.csv\", encoding=\"latin-1\")\n",
    "\n",
    "# Remove rows with missing spending categories\n",
    "filtered_proj = proj.dropna(subset=[\"NIH_SPENDING_CATS\"])\n",
    "\n",
    "# Extract unique categories\n",
    "unique_categories = filtered_proj[\"NIH_SPENDING_CATS\"].str.split(\";\").explode().unique()\n",
    "num_unique_categories = len(unique_categories)\n",
    "\n",
    "num_unique_categories  # Output: Should be 324 according to NIH source"
   ]
  },
  {
   "cell_type": "markdown",
   "id": "63321ab1-3e80-4462-b74f-0836c7be4383",
   "metadata": {},
   "source": [
    "# Find number of unique proj using project terms"
   ]
  },
  {
   "cell_type": "code",
   "execution_count": 29,
   "id": "d1b08a4c-d7f7-49ba-b09c-dde8e191bd51",
   "metadata": {},
   "outputs": [
    {
     "data": {
      "text/plain": [
       "332"
      ]
     },
     "execution_count": 29,
     "metadata": {},
     "output_type": "execute_result"
    }
   ],
   "source": [
    "years = [str(year) for year in range(2012, 2022)] \n",
    "\n",
    "# Load and process project data for 2012 as the base DataFrame\n",
    "proj = pd.read_csv(f\"{path}/Data/Projects/RePORTER_PRJ_C_FY2012.csv\", encoding=\"latin-1\")\n",
    "ab = pd.read_csv(f\"{path}/Data/Abstracts/RePORTER_PRJABS_C_FY2012.csv\", encoding=\"latin-1\")\n",
    "\n",
    "# Remove rows with missing spending categories\n",
    "filtered_proj = proj.dropna(subset=[\"NIH_SPENDING_CATS\"])\n",
    "\n",
    "# Extract unique categories\n",
    "unique_categories = filtered_proj[\"NIH_SPENDING_CATS\"].str.split(\";\").explode().unique()\n",
    "num_unique_categories = len(unique_categories)\n",
    "\n",
    "num_unique_categories  # Output: Should be 324 according to NIH source"
   ]
  },
  {
   "cell_type": "markdown",
   "id": "52d098ec-7847-4fc3-9db5-e1e433ff62df",
   "metadata": {},
   "source": [
    "# Number of Projects by NHLBI by year according to categories"
   ]
  },
  {
   "cell_type": "code",
   "execution_count": 30,
   "id": "47c5b06f-579c-4344-8116-6b4fe3abfbe2",
   "metadata": {},
   "outputs": [
    {
     "name": "stderr",
     "output_type": "stream",
     "text": [
      "C:\\Users\\NAjani\\AppData\\Local\\Temp\\ipykernel_13972\\2526298780.py:5: DtypeWarning: Columns (8,35) have mixed types. Specify dtype option on import or set low_memory=False.\n",
      "  proj = pd.read_csv(f\"{path}/Data/Projects/RePORTER_PRJ_C_FY{year}.csv\", encoding=\"latin-1\")\n",
      "C:\\Users\\NAjani\\AppData\\Local\\Temp\\ipykernel_13972\\2526298780.py:5: DtypeWarning: Columns (8,41) have mixed types. Specify dtype option on import or set low_memory=False.\n",
      "  proj = pd.read_csv(f\"{path}/Data/Projects/RePORTER_PRJ_C_FY{year}.csv\", encoding=\"latin-1\")\n",
      "C:\\Users\\NAjani\\AppData\\Local\\Temp\\ipykernel_13972\\2526298780.py:5: DtypeWarning: Columns (8) have mixed types. Specify dtype option on import or set low_memory=False.\n",
      "  proj = pd.read_csv(f\"{path}/Data/Projects/RePORTER_PRJ_C_FY{year}.csv\", encoding=\"latin-1\")\n",
      "C:\\Users\\NAjani\\AppData\\Local\\Temp\\ipykernel_13972\\2526298780.py:5: DtypeWarning: Columns (8) have mixed types. Specify dtype option on import or set low_memory=False.\n",
      "  proj = pd.read_csv(f\"{path}/Data/Projects/RePORTER_PRJ_C_FY{year}.csv\", encoding=\"latin-1\")\n",
      "C:\\Users\\NAjani\\AppData\\Local\\Temp\\ipykernel_13972\\2526298780.py:5: DtypeWarning: Columns (27) have mixed types. Specify dtype option on import or set low_memory=False.\n",
      "  proj = pd.read_csv(f\"{path}/Data/Projects/RePORTER_PRJ_C_FY{year}.csv\", encoding=\"latin-1\")\n"
     ]
    },
    {
     "data": {
      "text/plain": [
       "430"
      ]
     },
     "execution_count": 30,
     "metadata": {},
     "output_type": "execute_result"
    }
   ],
   "source": [
    "all_data = []\n",
    "\n",
    "# Loop through years and merge project + abstract data for Sickle Cell projects\n",
    "for year in years:\n",
    "    proj = pd.read_csv(f\"{path}/Data/Projects/RePORTER_PRJ_C_FY{year}.csv\", encoding=\"latin-1\")\n",
    "    ab = pd.read_csv(f\"{path}/Data/Abstracts/RePORTER_PRJABS_C_FY{year}.csv\", encoding=\"latin-1\")\n",
    "    \n",
    "    # Filter for NHLBI-funded sickle cell projects\n",
    "    db = sickle_cell_cat_NHLBI(pd.merge(proj, ab, on=\"APPLICATION_ID\", how=\"inner\"))\n",
    "    db[\"YEAR\"] = int(year)  # Store the year as an integer\n",
    "    all_data.append(db)\n",
    "\n",
    "# Combine all filtered data into a single DataFrame\n",
    "combined_db_cat_NHLBI = pd.concat(all_data, ignore_index=True)\n",
    "\n",
    "# Select relevant columns\n",
    "sickle_cell_db_cat_NHLBI = combined_db_cat_NHLBI[\n",
    "    [\"APPLICATION_ID\", \"PROJECT_TITLE\", \"ADMINISTERING_IC\", \"BUDGET_START\", \"BUDGET_END\", \n",
    "     \"CORE_PROJECT_NUM\", \"FUNDING_ICs\", \"FY\", \"IC_NAME\", \"ORG_NAME\", \"ORG_STATE\", \n",
    "     \"PI_NAMEs\", \"PI_IDS\", \"PROJECT_START\", \"PROJECT_END\", \"TOTAL_COST\", \"ABSTRACT_TEXT\", \"YEAR\"]\n",
    "]\n",
    "\n",
    "# Count unique core project numbers\n",
    "num_unique_projects = sickle_cell_db_cat_NHLBI[\"CORE_PROJECT_NUM\"].nunique()\n",
    "num_unique_projects\n"
   ]
  },
  {
   "cell_type": "code",
   "execution_count": 14,
   "id": "a068ba93-4274-424d-9ab7-a9f4c7e62da7",
   "metadata": {},
   "outputs": [
    {
     "name": "stdout",
     "output_type": "stream",
     "text": [
      "  FY  Sickle_Cell_Core_Projects\n",
      "2012                         88\n",
      "2013                         83\n",
      "2014                         93\n",
      "2015                         88\n",
      "2016                        111\n",
      "2017                        133\n",
      "2018                        123\n",
      "2019                        162\n",
      "2020                        143\n",
      "2021                        157\n"
     ]
    }
   ],
   "source": [
    "# Calculate number of NHLBI projects each fiscal year\n",
    "sickle_cell_anual = sickle_cell_db_cat_NHLBI.groupby(['FY'])['CORE_PROJECT_NUM'].nunique()\n",
    "\n",
    "# Convert into a dataframe and reset index\n",
    "sickle_cell_anual = sickle_cell_anual.to_frame().reset_index()\n",
    "\n",
    "# Rename CORE_PROJECT_NUM to Sickle_Cell_Core_Projects\n",
    "sickle_cell_anual.rename(columns={'CORE_PROJECT_NUM':'Sickle_Cell_Core_Projects'}, inplace=True)\n",
    "\n",
    "# Display the table\n",
    "print(sickle_cell_anual.to_string(index=False))"
   ]
  },
  {
   "cell_type": "markdown",
   "id": "45b5a8fc-4095-4941-bfd0-4486cd955574",
   "metadata": {},
   "source": [
    "# Iterate through CSV from NHLBI via Terms"
   ]
  },
  {
   "cell_type": "code",
   "execution_count": 15,
   "id": "94a3e90a-d516-4b36-b8c9-8d2a544dba43",
   "metadata": {},
   "outputs": [
    {
     "name": "stderr",
     "output_type": "stream",
     "text": [
      "C:\\Users\\NAjani\\AppData\\Local\\Temp\\ipykernel_13972\\1869911681.py:4: DtypeWarning: Columns (8,35) have mixed types. Specify dtype option on import or set low_memory=False.\n",
      "  proj = pd.read_csv(path + '/Data/Projects/RePORTER_PRJ_C_FY' + year + '.csv', encoding='latin-1')\n",
      "C:\\Users\\NAjani\\AppData\\Local\\Temp\\ipykernel_13972\\1869911681.py:4: DtypeWarning: Columns (8,41) have mixed types. Specify dtype option on import or set low_memory=False.\n",
      "  proj = pd.read_csv(path + '/Data/Projects/RePORTER_PRJ_C_FY' + year + '.csv', encoding='latin-1')\n",
      "C:\\Users\\NAjani\\AppData\\Local\\Temp\\ipykernel_13972\\1869911681.py:4: DtypeWarning: Columns (8) have mixed types. Specify dtype option on import or set low_memory=False.\n",
      "  proj = pd.read_csv(path + '/Data/Projects/RePORTER_PRJ_C_FY' + year + '.csv', encoding='latin-1')\n",
      "C:\\Users\\NAjani\\AppData\\Local\\Temp\\ipykernel_13972\\1869911681.py:4: DtypeWarning: Columns (8) have mixed types. Specify dtype option on import or set low_memory=False.\n",
      "  proj = pd.read_csv(path + '/Data/Projects/RePORTER_PRJ_C_FY' + year + '.csv', encoding='latin-1')\n",
      "C:\\Users\\NAjani\\AppData\\Local\\Temp\\ipykernel_13972\\1869911681.py:4: DtypeWarning: Columns (27) have mixed types. Specify dtype option on import or set low_memory=False.\n",
      "  proj = pd.read_csv(path + '/Data/Projects/RePORTER_PRJ_C_FY' + year + '.csv', encoding='latin-1')\n"
     ]
    },
    {
     "data": {
      "text/plain": [
       "537"
      ]
     },
     "execution_count": 15,
     "metadata": {},
     "output_type": "execute_result"
    }
   ],
   "source": [
    "all_data = []\n",
    "\n",
    "for year in years:\n",
    "    proj = pd.read_csv(path + '/Data/Projects/RePORTER_PRJ_C_FY' + year + '.csv', encoding='latin-1')\n",
    "    ab = pd.read_csv(path + '/Data/Abstracts/RePORTER_PRJABS_C_FY' + year + '.csv', encoding='latin-1')\n",
    "    db = sickle_cell_term_NHLBI(pd.merge(proj, ab, on=\"APPLICATION_ID\", how=\"inner\"))\n",
    "    db[\"YEAR\"] = int(year)\n",
    "    all_data.append(db)\n",
    "\n",
    "# Combine all years into a single DataFrame\n",
    "combined_db = pd.concat(all_data, ignore_index=True)\n",
    "\n",
    "sickle_cell_db_NHLBI = combined_db[[\"APPLICATION_ID\", \"PROJECT_TITLE\",\"ADMINISTERING_IC\", \"BUDGET_START\", \"BUDGET_END\", \"CORE_PROJECT_NUM\",\\\n",
    "                         \"FUNDING_ICs\", \"FY\", \"IC_NAME\", \"ORG_NAME\", \"ORG_STATE\", \"PI_NAMEs\", \"PI_IDS\", \"PROJECT_START\",\\\n",
    "                         \"PROJECT_END\", \"TOTAL_COST\", \"ABSTRACT_TEXT\", \"YEAR\",\n",
    "                                   #\"PROJECT_TERMS\"\n",
    "                                   ]]\n",
    "\n",
    "sickle_cell_db_NHLBI[\"CORE_PROJECT_NUM\"].nunique()"
   ]
  },
  {
   "cell_type": "code",
   "execution_count": 16,
   "id": "d30b02be-810f-44c1-9689-7da3078a7b7b",
   "metadata": {},
   "outputs": [
    {
     "data": {
      "image/png": "[encoded data removed]",
      "text/plain": [
       "<Figure size 640x480 with 1 Axes>"
      ]
     },
     "metadata": {},
     "output_type": "display_data"
    }
   ],
   "source": [
    "# Compiling TOTAL projects by year\n",
    "\n",
    "# Calculate number of CRISPR projects each fiscal year\n",
    "sickle_cell_anual_NHLBI = sickle_cell_db_NHLBI.groupby(['FY'])['CORE_PROJECT_NUM'].nunique()\n",
    "\n",
    "\n",
    "# Convert into a dataframe and reset index\n",
    "sickle_cell_anual_NHLBI = sickle_cell_anual_NHLBI.to_frame().reset_index()\n",
    "\n",
    "# Rename CORE_PROJECT_NUM to Sickle_Cell_Core_Projects\n",
    "sickle_cell_anual_NHLBI.rename(columns={'CORE_PROJECT_NUM':'Sickle_Cell_Core_Projects'}, inplace = True)\n",
    "\n",
    "\n",
    "# Preliminary visualization of total no. of CRISPR projects year-on-year\n",
    "\n",
    "sns.lineplot(x = 'FY', \n",
    "             y = 'Sickle_Cell_Core_Projects', \n",
    "             data = sickle_cell_anual_NHLBI)\n",
    "plt.show()"
   ]
  },
  {
   "cell_type": "markdown",
   "id": "ab7847f4-b6c7-489e-ae43-56671e1db85c",
   "metadata": {},
   "source": [
    "# Iterate through CSV from NIH via Cats"
   ]
  },
  {
   "cell_type": "code",
   "execution_count": 17,
   "id": "05d18e69-f209-47dd-bd30-1e047770fdbf",
   "metadata": {},
   "outputs": [
    {
     "name": "stderr",
     "output_type": "stream",
     "text": [
      "C:\\Users\\NAjani\\AppData\\Local\\Temp\\ipykernel_13972\\288578580.py:4: DtypeWarning: Columns (8,35) have mixed types. Specify dtype option on import or set low_memory=False.\n",
      "  proj = pd.read_csv(path + '/Data/Projects/RePORTER_PRJ_C_FY' + year + '.csv', encoding='latin-1')\n",
      "C:\\Users\\NAjani\\AppData\\Local\\Temp\\ipykernel_13972\\288578580.py:4: DtypeWarning: Columns (8,41) have mixed types. Specify dtype option on import or set low_memory=False.\n",
      "  proj = pd.read_csv(path + '/Data/Projects/RePORTER_PRJ_C_FY' + year + '.csv', encoding='latin-1')\n",
      "C:\\Users\\NAjani\\AppData\\Local\\Temp\\ipykernel_13972\\288578580.py:4: DtypeWarning: Columns (8) have mixed types. Specify dtype option on import or set low_memory=False.\n",
      "  proj = pd.read_csv(path + '/Data/Projects/RePORTER_PRJ_C_FY' + year + '.csv', encoding='latin-1')\n",
      "C:\\Users\\NAjani\\AppData\\Local\\Temp\\ipykernel_13972\\288578580.py:4: DtypeWarning: Columns (8) have mixed types. Specify dtype option on import or set low_memory=False.\n",
      "  proj = pd.read_csv(path + '/Data/Projects/RePORTER_PRJ_C_FY' + year + '.csv', encoding='latin-1')\n",
      "C:\\Users\\NAjani\\AppData\\Local\\Temp\\ipykernel_13972\\288578580.py:4: DtypeWarning: Columns (27) have mixed types. Specify dtype option on import or set low_memory=False.\n",
      "  proj = pd.read_csv(path + '/Data/Projects/RePORTER_PRJ_C_FY' + year + '.csv', encoding='latin-1')\n"
     ]
    },
    {
     "data": {
      "text/html": [
       "<div>\n",
       "<style scoped>\n",
       "    .dataframe tbody tr th:only-of-type {\n",
       "        vertical-align: middle;\n",
       "    }\n",
       "\n",
       "    .dataframe tbody tr th {\n",
       "        vertical-align: top;\n",
       "    }\n",
       "\n",
       "    .dataframe thead th {\n",
       "        text-align: right;\n",
       "    }\n",
       "</style>\n",
       "<table border=\"1\" class=\"dataframe\">\n",
       "  <thead>\n",
       "    <tr style=\"text-align: right;\">\n",
       "      <th></th>\n",
       "      <th>APPLICATION_ID</th>\n",
       "      <th>ACTIVITY</th>\n",
       "      <th>ADMINISTERING_IC</th>\n",
       "      <th>APPLICATION_TYPE</th>\n",
       "      <th>ARRA_FUNDED</th>\n",
       "      <th>AWARD_NOTICE_DATE</th>\n",
       "      <th>BUDGET_START</th>\n",
       "      <th>BUDGET_END</th>\n",
       "      <th>CFDA_CODE</th>\n",
       "      <th>CORE_PROJECT_NUM</th>\n",
       "      <th>...</th>\n",
       "      <th>SUFFIX</th>\n",
       "      <th>SUPPORT_YEAR</th>\n",
       "      <th>DIRECT_COST_AMT</th>\n",
       "      <th>INDIRECT_COST_AMT</th>\n",
       "      <th>TOTAL_COST</th>\n",
       "      <th>TOTAL_COST_SUB_PROJECT</th>\n",
       "      <th>ABSTRACT_TEXT</th>\n",
       "      <th>YEAR</th>\n",
       "      <th>FUNDING_ICs</th>\n",
       "      <th>ORG_IPF_CODE</th>\n",
       "    </tr>\n",
       "  </thead>\n",
       "  <tbody>\n",
       "    <tr>\n",
       "      <th>0</th>\n",
       "      <td>8293332</td>\n",
       "      <td>R03</td>\n",
       "      <td>TW</td>\n",
       "      <td>5.00</td>\n",
       "      <td>N</td>\n",
       "      <td>6/21/2012</td>\n",
       "      <td>7/1/2012</td>\n",
       "      <td>6/30/2013</td>\n",
       "      <td>989.00</td>\n",
       "      <td>R03TW008695</td>\n",
       "      <td>...</td>\n",
       "      <td>NaN</td>\n",
       "      <td>2.00</td>\n",
       "      <td>52391.00</td>\n",
       "      <td>6198.00</td>\n",
       "      <td>58589.00</td>\n",
       "      <td>NaN</td>\n",
       "      <td>DESCRIPTION (provided by applicant): This rese...</td>\n",
       "      <td>2012</td>\n",
       "      <td>NaN</td>\n",
       "      <td>NaN</td>\n",
       "    </tr>\n",
       "    <tr>\n",
       "      <th>1</th>\n",
       "      <td>8565544</td>\n",
       "      <td>ZIA</td>\n",
       "      <td>HG</td>\n",
       "      <td>1.00</td>\n",
       "      <td>N</td>\n",
       "      <td>NaN</td>\n",
       "      <td>NaN</td>\n",
       "      <td>NaN</td>\n",
       "      <td>NaN</td>\n",
       "      <td>ZIAHG200324</td>\n",
       "      <td>...</td>\n",
       "      <td>NaN</td>\n",
       "      <td>8.00</td>\n",
       "      <td>NaN</td>\n",
       "      <td>NaN</td>\n",
       "      <td>172466.00</td>\n",
       "      <td>NaN</td>\n",
       "      <td>Summary:   This project examines patients and ...</td>\n",
       "      <td>2012</td>\n",
       "      <td>NaN</td>\n",
       "      <td>NaN</td>\n",
       "    </tr>\n",
       "    <tr>\n",
       "      <th>2</th>\n",
       "      <td>8495474</td>\n",
       "      <td>N01</td>\n",
       "      <td>HL</td>\n",
       "      <td>NaN</td>\n",
       "      <td>N</td>\n",
       "      <td>NaN</td>\n",
       "      <td>NaN</td>\n",
       "      <td>NaN</td>\n",
       "      <td>837.00</td>\n",
       "      <td>N01HB000000</td>\n",
       "      <td>...</td>\n",
       "      <td>NaN</td>\n",
       "      <td>NaN</td>\n",
       "      <td>NaN</td>\n",
       "      <td>NaN</td>\n",
       "      <td>1234769.00</td>\n",
       "      <td>NaN</td>\n",
       "      <td>In 2000, the National Heart, Lung, and Blood I...</td>\n",
       "      <td>2012</td>\n",
       "      <td>NaN</td>\n",
       "      <td>NaN</td>\n",
       "    </tr>\n",
       "    <tr>\n",
       "      <th>3</th>\n",
       "      <td>8395727</td>\n",
       "      <td>R44</td>\n",
       "      <td>HL</td>\n",
       "      <td>2.00</td>\n",
       "      <td>N</td>\n",
       "      <td>8/13/2012</td>\n",
       "      <td>8/15/2012</td>\n",
       "      <td>5/31/2013</td>\n",
       "      <td>837.00</td>\n",
       "      <td>R44HL093893</td>\n",
       "      <td>...</td>\n",
       "      <td>NaN</td>\n",
       "      <td>3.00</td>\n",
       "      <td>NaN</td>\n",
       "      <td>NaN</td>\n",
       "      <td>1037638.00</td>\n",
       "      <td>NaN</td>\n",
       "      <td>DESCRIPTION (provided by applicant): Selexys P...</td>\n",
       "      <td>2012</td>\n",
       "      <td>NaN</td>\n",
       "      <td>NaN</td>\n",
       "    </tr>\n",
       "    <tr>\n",
       "      <th>4</th>\n",
       "      <td>8558088</td>\n",
       "      <td>ZIA</td>\n",
       "      <td>HL</td>\n",
       "      <td>1.00</td>\n",
       "      <td>N</td>\n",
       "      <td>NaN</td>\n",
       "      <td>NaN</td>\n",
       "      <td>NaN</td>\n",
       "      <td>NaN</td>\n",
       "      <td>ZIAHL006160</td>\n",
       "      <td>...</td>\n",
       "      <td>NaN</td>\n",
       "      <td>1.00</td>\n",
       "      <td>NaN</td>\n",
       "      <td>NaN</td>\n",
       "      <td>1113333.00</td>\n",
       "      <td>NaN</td>\n",
       "      <td>Sickle cell disease is an autosomal recessive ...</td>\n",
       "      <td>2012</td>\n",
       "      <td>NaN</td>\n",
       "      <td>NaN</td>\n",
       "    </tr>\n",
       "    <tr>\n",
       "      <th>...</th>\n",
       "      <td>...</td>\n",
       "      <td>...</td>\n",
       "      <td>...</td>\n",
       "      <td>...</td>\n",
       "      <td>...</td>\n",
       "      <td>...</td>\n",
       "      <td>...</td>\n",
       "      <td>...</td>\n",
       "      <td>...</td>\n",
       "      <td>...</td>\n",
       "      <td>...</td>\n",
       "      <td>...</td>\n",
       "      <td>...</td>\n",
       "      <td>...</td>\n",
       "      <td>...</td>\n",
       "      <td>...</td>\n",
       "      <td>...</td>\n",
       "      <td>...</td>\n",
       "      <td>...</td>\n",
       "      <td>...</td>\n",
       "      <td>...</td>\n",
       "    </tr>\n",
       "    <tr>\n",
       "      <th>2021</th>\n",
       "      <td>10240493</td>\n",
       "      <td>U54</td>\n",
       "      <td>HL</td>\n",
       "      <td>5.00</td>\n",
       "      <td>N</td>\n",
       "      <td>09/10/2021</td>\n",
       "      <td>07/01/2021</td>\n",
       "      <td>06/30/2022</td>\n",
       "      <td>NaN</td>\n",
       "      <td>U54HL141011</td>\n",
       "      <td>...</td>\n",
       "      <td>NaN</td>\n",
       "      <td>5.00</td>\n",
       "      <td>143250.00</td>\n",
       "      <td>9672.00</td>\n",
       "      <td>NaN</td>\n",
       "      <td>152922.00</td>\n",
       "      <td>SUMMARY The Administrative Core is the essenti...</td>\n",
       "      <td>2021</td>\n",
       "      <td>NHLBI:152922\\</td>\n",
       "      <td>10031164.00</td>\n",
       "    </tr>\n",
       "    <tr>\n",
       "      <th>2022</th>\n",
       "      <td>10211085</td>\n",
       "      <td>R03</td>\n",
       "      <td>HL</td>\n",
       "      <td>1.00</td>\n",
       "      <td>N</td>\n",
       "      <td>05/07/2021</td>\n",
       "      <td>05/15/2021</td>\n",
       "      <td>05/14/2022</td>\n",
       "      <td>839.00</td>\n",
       "      <td>R03HL157878</td>\n",
       "      <td>...</td>\n",
       "      <td>NaN</td>\n",
       "      <td>1.00</td>\n",
       "      <td>50000.00</td>\n",
       "      <td>28250.00</td>\n",
       "      <td>78250.00</td>\n",
       "      <td>NaN</td>\n",
       "      <td>Sickle Cell Disease (SCD) is the most prevalen...</td>\n",
       "      <td>2021</td>\n",
       "      <td>NHLBI:78250\\</td>\n",
       "      <td>2059802.00</td>\n",
       "    </tr>\n",
       "    <tr>\n",
       "      <th>2023</th>\n",
       "      <td>10490151</td>\n",
       "      <td>ZIA</td>\n",
       "      <td>HL</td>\n",
       "      <td>1.00</td>\n",
       "      <td>N</td>\n",
       "      <td>NaN</td>\n",
       "      <td>NaN</td>\n",
       "      <td>NaN</td>\n",
       "      <td>NaN</td>\n",
       "      <td>ZIAHL006266</td>\n",
       "      <td>...</td>\n",
       "      <td>NaN</td>\n",
       "      <td>1.00</td>\n",
       "      <td>NaN</td>\n",
       "      <td>NaN</td>\n",
       "      <td>1444860.00</td>\n",
       "      <td>NaN</td>\n",
       "      <td>Sickle cell disease (SCD) is a multisystem dis...</td>\n",
       "      <td>2021</td>\n",
       "      <td>NHLBI:1444860\\</td>\n",
       "      <td>NaN</td>\n",
       "    </tr>\n",
       "    <tr>\n",
       "      <th>2024</th>\n",
       "      <td>10265464</td>\n",
       "      <td>U24</td>\n",
       "      <td>HL</td>\n",
       "      <td>5.00</td>\n",
       "      <td>N</td>\n",
       "      <td>09/13/2021</td>\n",
       "      <td>09/01/2021</td>\n",
       "      <td>08/31/2022</td>\n",
       "      <td>839.00</td>\n",
       "      <td>U24HL148563</td>\n",
       "      <td>...</td>\n",
       "      <td>NaN</td>\n",
       "      <td>2.00</td>\n",
       "      <td>370586.00</td>\n",
       "      <td>194558.00</td>\n",
       "      <td>565144.00</td>\n",
       "      <td>NaN</td>\n",
       "      <td>Project Summary/Abstract Vaso-occlusive painfu...</td>\n",
       "      <td>2021</td>\n",
       "      <td>NHLBI:565144\\</td>\n",
       "      <td>514002.00</td>\n",
       "    </tr>\n",
       "    <tr>\n",
       "      <th>2025</th>\n",
       "      <td>10071216</td>\n",
       "      <td>K23</td>\n",
       "      <td>NS</td>\n",
       "      <td>5.00</td>\n",
       "      <td>N</td>\n",
       "      <td>12/17/2020</td>\n",
       "      <td>01/01/2021</td>\n",
       "      <td>12/31/2021</td>\n",
       "      <td>853.00</td>\n",
       "      <td>K23NS099472</td>\n",
       "      <td>...</td>\n",
       "      <td>NaN</td>\n",
       "      <td>5.00</td>\n",
       "      <td>163221.00</td>\n",
       "      <td>13058.00</td>\n",
       "      <td>176279.00</td>\n",
       "      <td>NaN</td>\n",
       "      <td>Pediatric stroke may occur because of an inade...</td>\n",
       "      <td>2021</td>\n",
       "      <td>NINDS:176279\\</td>\n",
       "      <td>9083901.00</td>\n",
       "    </tr>\n",
       "  </tbody>\n",
       "</table>\n",
       "<p>2026 rows × 49 columns</p>\n",
       "</div>"
      ],
      "text/plain": [
       "      APPLICATION_ID ACTIVITY ADMINISTERING_IC  APPLICATION_TYPE ARRA_FUNDED  \\\n",
       "0            8293332      R03               TW              5.00           N   \n",
       "1            8565544      ZIA               HG              1.00           N   \n",
       "2            8495474      N01               HL               NaN           N   \n",
       "3            8395727      R44               HL              2.00           N   \n",
       "4            8558088      ZIA               HL              1.00           N   \n",
       "...              ...      ...              ...               ...         ...   \n",
       "2021        10240493      U54               HL              5.00           N   \n",
       "2022        10211085      R03               HL              1.00           N   \n",
       "2023        10490151      ZIA               HL              1.00           N   \n",
       "2024        10265464      U24               HL              5.00           N   \n",
       "2025        10071216      K23               NS              5.00           N   \n",
       "\n",
       "     AWARD_NOTICE_DATE BUDGET_START  BUDGET_END CFDA_CODE CORE_PROJECT_NUM  \\\n",
       "0            6/21/2012     7/1/2012   6/30/2013    989.00      R03TW008695   \n",
       "1                  NaN          NaN         NaN       NaN      ZIAHG200324   \n",
       "2                  NaN          NaN         NaN    837.00      N01HB000000   \n",
       "3            8/13/2012    8/15/2012   5/31/2013    837.00      R44HL093893   \n",
       "4                  NaN          NaN         NaN       NaN      ZIAHL006160   \n",
       "...                ...          ...         ...       ...              ...   \n",
       "2021        09/10/2021   07/01/2021  06/30/2022       NaN      U54HL141011   \n",
       "2022        05/07/2021   05/15/2021  05/14/2022    839.00      R03HL157878   \n",
       "2023               NaN          NaN         NaN       NaN      ZIAHL006266   \n",
       "2024        09/13/2021   09/01/2021  08/31/2022    839.00      U24HL148563   \n",
       "2025        12/17/2020   01/01/2021  12/31/2021    853.00      K23NS099472   \n",
       "\n",
       "      ... SUFFIX SUPPORT_YEAR DIRECT_COST_AMT INDIRECT_COST_AMT TOTAL_COST  \\\n",
       "0     ...    NaN         2.00        52391.00           6198.00   58589.00   \n",
       "1     ...    NaN         8.00             NaN               NaN  172466.00   \n",
       "2     ...    NaN          NaN             NaN               NaN 1234769.00   \n",
       "3     ...    NaN         3.00             NaN               NaN 1037638.00   \n",
       "4     ...    NaN         1.00             NaN               NaN 1113333.00   \n",
       "...   ...    ...          ...             ...               ...        ...   \n",
       "2021  ...    NaN         5.00       143250.00           9672.00        NaN   \n",
       "2022  ...    NaN         1.00        50000.00          28250.00   78250.00   \n",
       "2023  ...    NaN         1.00             NaN               NaN 1444860.00   \n",
       "2024  ...    NaN         2.00       370586.00         194558.00  565144.00   \n",
       "2025  ...    NaN         5.00       163221.00          13058.00  176279.00   \n",
       "\n",
       "      TOTAL_COST_SUB_PROJECT  \\\n",
       "0                        NaN   \n",
       "1                        NaN   \n",
       "2                        NaN   \n",
       "3                        NaN   \n",
       "4                        NaN   \n",
       "...                      ...   \n",
       "2021               152922.00   \n",
       "2022                     NaN   \n",
       "2023                     NaN   \n",
       "2024                     NaN   \n",
       "2025                     NaN   \n",
       "\n",
       "                                          ABSTRACT_TEXT  YEAR     FUNDING_ICs  \\\n",
       "0     DESCRIPTION (provided by applicant): This rese...  2012             NaN   \n",
       "1     Summary:   This project examines patients and ...  2012             NaN   \n",
       "2     In 2000, the National Heart, Lung, and Blood I...  2012             NaN   \n",
       "3     DESCRIPTION (provided by applicant): Selexys P...  2012             NaN   \n",
       "4     Sickle cell disease is an autosomal recessive ...  2012             NaN   \n",
       "...                                                 ...   ...             ...   \n",
       "2021  SUMMARY The Administrative Core is the essenti...  2021   NHLBI:152922\\   \n",
       "2022  Sickle Cell Disease (SCD) is the most prevalen...  2021    NHLBI:78250\\   \n",
       "2023  Sickle cell disease (SCD) is a multisystem dis...  2021  NHLBI:1444860\\   \n",
       "2024  Project Summary/Abstract Vaso-occlusive painfu...  2021   NHLBI:565144\\   \n",
       "2025  Pediatric stroke may occur because of an inade...  2021   NINDS:176279\\   \n",
       "\n",
       "     ORG_IPF_CODE  \n",
       "0             NaN  \n",
       "1             NaN  \n",
       "2             NaN  \n",
       "3             NaN  \n",
       "4             NaN  \n",
       "...           ...  \n",
       "2021  10031164.00  \n",
       "2022   2059802.00  \n",
       "2023          NaN  \n",
       "2024    514002.00  \n",
       "2025   9083901.00  \n",
       "\n",
       "[2026 rows x 49 columns]"
      ]
     },
     "execution_count": 17,
     "metadata": {},
     "output_type": "execute_result"
    }
   ],
   "source": [
    "all_data = []\n",
    "\n",
    "for year in years:\n",
    "    proj = pd.read_csv(path + '/Data/Projects/RePORTER_PRJ_C_FY' + year + '.csv', encoding='latin-1')\n",
    "    ab = pd.read_csv(path + '/Data/Abstracts/RePORTER_PRJABS_C_FY' + year + '.csv', encoding='latin-1')\n",
    "    db = sickle_cell_cat_NIH(pd.merge(proj, ab, on=\"APPLICATION_ID\", how=\"inner\"))\n",
    "    db[\"YEAR\"] = int(year)\n",
    "    all_data.append(db)\n",
    "\n",
    "# Combine all years into a single DataFrame\n",
    "combined_db = pd.concat(all_data, ignore_index=True)\n",
    "\n",
    "combined_db"
   ]
  },
  {
   "cell_type": "code",
   "execution_count": 18,
   "id": "e93487e0-31d6-4e91-a73a-b15e883f1b0a",
   "metadata": {},
   "outputs": [
    {
     "data": {
      "image/png": "[encoded data removed]",
      "text/plain": [
       "<Figure size 640x480 with 1 Axes>"
      ]
     },
     "metadata": {},
     "output_type": "display_data"
    }
   ],
   "source": [
    "# Compiling TOTAL projects by year\n",
    "\n",
    "# Calculate number of CRISPR projects each fiscal year\n",
    "sickle_cell_anual_NHLBI = sickle_cell_db_NHLBI.groupby(['FY'])['CORE_PROJECT_NUM'].nunique()\n",
    "\n",
    "\n",
    "# Convert into a dataframe and reset index\n",
    "sickle_cell_anual_NHLBI = sickle_cell_anual_NHLBI.to_frame().reset_index()\n",
    "\n",
    "# Rename CORE_PROJECT_NUM to Sickle_Cell_Core_Projects\n",
    "sickle_cell_anual_NHLBI.rename(columns={'CORE_PROJECT_NUM':'Sickle_Cell_Core_Projects'}, inplace = True)\n",
    "\n",
    "\n",
    "# Preliminary visualization of total no. of CRISPR projects year-on-year\n",
    "\n",
    "sns.lineplot(x = 'FY', \n",
    "             y = 'Sickle_Cell_Core_Projects', \n",
    "             data = sickle_cell_anual_NHLBI)\n",
    "plt.show()"
   ]
  },
  {
   "cell_type": "code",
   "execution_count": 19,
   "id": "002a0b74-fbd8-4013-802f-17425551f6d0",
   "metadata": {},
   "outputs": [],
   "source": [
    "# Create a table instead of line charts \n",
    "\n",
    "# Create a table using original CSVs\n",
    "\n",
    "# Inner/Outer join the two CSVs\n",
    "\n",
    "# check percentage of projects that joined"
   ]
  },
  {
   "cell_type": "markdown",
   "id": "9b74f053-71cd-47e4-9a54-51136cdd5d13",
   "metadata": {},
   "source": [
    "# Number of projects by terms in NIH"
   ]
  },
  {
   "cell_type": "code",
   "execution_count": 20,
   "id": "addd1432-8b0c-416d-8048-af466c14c0a1",
   "metadata": {},
   "outputs": [
    {
     "name": "stderr",
     "output_type": "stream",
     "text": [
      "C:\\Users\\NAjani\\AppData\\Local\\Temp\\ipykernel_13972\\1877059497.py:4: DtypeWarning: Columns (8,35) have mixed types. Specify dtype option on import or set low_memory=False.\n",
      "  proj = pd.read_csv(path + '/Data/Projects/RePORTER_PRJ_C_FY' + year + '.csv', encoding='latin-1')\n",
      "C:\\Users\\NAjani\\AppData\\Local\\Temp\\ipykernel_13972\\1877059497.py:4: DtypeWarning: Columns (8,41) have mixed types. Specify dtype option on import or set low_memory=False.\n",
      "  proj = pd.read_csv(path + '/Data/Projects/RePORTER_PRJ_C_FY' + year + '.csv', encoding='latin-1')\n",
      "C:\\Users\\NAjani\\AppData\\Local\\Temp\\ipykernel_13972\\1877059497.py:4: DtypeWarning: Columns (8) have mixed types. Specify dtype option on import or set low_memory=False.\n",
      "  proj = pd.read_csv(path + '/Data/Projects/RePORTER_PRJ_C_FY' + year + '.csv', encoding='latin-1')\n",
      "C:\\Users\\NAjani\\AppData\\Local\\Temp\\ipykernel_13972\\1877059497.py:4: DtypeWarning: Columns (8) have mixed types. Specify dtype option on import or set low_memory=False.\n",
      "  proj = pd.read_csv(path + '/Data/Projects/RePORTER_PRJ_C_FY' + year + '.csv', encoding='latin-1')\n",
      "C:\\Users\\NAjani\\AppData\\Local\\Temp\\ipykernel_13972\\1877059497.py:4: DtypeWarning: Columns (27) have mixed types. Specify dtype option on import or set low_memory=False.\n",
      "  proj = pd.read_csv(path + '/Data/Projects/RePORTER_PRJ_C_FY' + year + '.csv', encoding='latin-1')\n"
     ]
    },
    {
     "data": {
      "text/html": [
       "<div>\n",
       "<style scoped>\n",
       "    .dataframe tbody tr th:only-of-type {\n",
       "        vertical-align: middle;\n",
       "    }\n",
       "\n",
       "    .dataframe tbody tr th {\n",
       "        vertical-align: top;\n",
       "    }\n",
       "\n",
       "    .dataframe thead th {\n",
       "        text-align: right;\n",
       "    }\n",
       "</style>\n",
       "<table border=\"1\" class=\"dataframe\">\n",
       "  <thead>\n",
       "    <tr style=\"text-align: right;\">\n",
       "      <th></th>\n",
       "      <th>APPLICATION_ID</th>\n",
       "      <th>ACTIVITY</th>\n",
       "      <th>ADMINISTERING_IC</th>\n",
       "      <th>APPLICATION_TYPE</th>\n",
       "      <th>ARRA_FUNDED</th>\n",
       "      <th>AWARD_NOTICE_DATE</th>\n",
       "      <th>BUDGET_START</th>\n",
       "      <th>BUDGET_END</th>\n",
       "      <th>CFDA_CODE</th>\n",
       "      <th>CORE_PROJECT_NUM</th>\n",
       "      <th>...</th>\n",
       "      <th>SUFFIX</th>\n",
       "      <th>SUPPORT_YEAR</th>\n",
       "      <th>DIRECT_COST_AMT</th>\n",
       "      <th>INDIRECT_COST_AMT</th>\n",
       "      <th>TOTAL_COST</th>\n",
       "      <th>TOTAL_COST_SUB_PROJECT</th>\n",
       "      <th>ABSTRACT_TEXT</th>\n",
       "      <th>YEAR</th>\n",
       "      <th>FUNDING_ICs</th>\n",
       "      <th>ORG_IPF_CODE</th>\n",
       "    </tr>\n",
       "  </thead>\n",
       "  <tbody>\n",
       "  </tbody>\n",
       "</table>\n",
       "<p>0 rows × 49 columns</p>\n",
       "</div>"
      ],
      "text/plain": [
       "Empty DataFrame\n",
       "Columns: [APPLICATION_ID, ACTIVITY, ADMINISTERING_IC, APPLICATION_TYPE, ARRA_FUNDED, AWARD_NOTICE_DATE, BUDGET_START, BUDGET_END, CFDA_CODE, CORE_PROJECT_NUM, ED_INST_TYPE, FOA_NUMBER, FULL_PROJECT_NUM, FUNDING_Ics, FUNDING_MECHANISM, FY, IC_NAME, NIH_SPENDING_CATS, ORG_CITY, ORG_COUNTRY, ORG_DEPT, ORG_DISTRICT, ORG_DUNS, ORG_FIPS, ORG_NAME, ORG_STATE, ORG_ZIPCODE, PHR, PI_IDS, PI_NAMEs, PROGRAM_OFFICER_NAME, PROJECT_START, PROJECT_END, PROJECT_TERMS, PROJECT_TITLE, SERIAL_NUMBER, STUDY_SECTION, STUDY_SECTION_NAME, SUBPROJECT_ID, SUFFIX, SUPPORT_YEAR, DIRECT_COST_AMT, INDIRECT_COST_AMT, TOTAL_COST, TOTAL_COST_SUB_PROJECT, ABSTRACT_TEXT, YEAR, FUNDING_ICs, ORG_IPF_CODE]\n",
       "Index: []\n",
       "\n",
       "[0 rows x 49 columns]"
      ]
     },
     "execution_count": 20,
     "metadata": {},
     "output_type": "execute_result"
    }
   ],
   "source": [
    "all_data = []\n",
    "\n",
    "for year in years:\n",
    "    proj = pd.read_csv(path + '/Data/Projects/RePORTER_PRJ_C_FY' + year + '.csv', encoding='latin-1')\n",
    "    ab = pd.read_csv(path + '/Data/Abstracts/RePORTER_PRJABS_C_FY' + year + '.csv', encoding='latin-1')\n",
    "    db = sickle_cell_term_NIH(pd.merge(proj, ab, on=\"APPLICATION_ID\", how=\"inner\"))\n",
    "    db[\"YEAR\"] = int(year)\n",
    "    all_data.append(db)\n",
    "\n",
    "# Combine all years into a single DataFrame\n",
    "combined_db = pd.concat(all_data, ignore_index=True)\n",
    "\n",
    "combined_db"
   ]
  }
 ],
 "metadata": {
  "kernelspec": {
   "display_name": "Python 3 (ipykernel)",
   "language": "python",
   "name": "python3"
  },
  "language_info": {
   "codemirror_mode": {
    "name": "ipython",
    "version": 3
   },
   "file_extension": ".py",
   "mimetype": "text/x-python",
   "name": "python",
   "nbconvert_exporter": "python",
   "pygments_lexer": "ipython3",
   "version": "3.13.2"
  }
 },
 "nbformat": 4,
 "nbformat_minor": 5
}
